{
 "cells": [
  {
   "cell_type": "code",
   "execution_count": 2,
   "id": "433e1d68-ea28-4e22-996f-591c3e08ae99",
   "metadata": {},
   "outputs": [
    {
     "name": "stdout",
     "output_type": "stream",
     "text": [
      "Requirement already satisfied: bs4 in /Library/Frameworks/Python.framework/Versions/3.10/lib/python3.10/site-packages (0.0.1)\n",
      "Requirement already satisfied: beautifulsoup4 in /Library/Frameworks/Python.framework/Versions/3.10/lib/python3.10/site-packages (from bs4) (4.11.1)\n",
      "Requirement already satisfied: soupsieve>1.2 in /Library/Frameworks/Python.framework/Versions/3.10/lib/python3.10/site-packages (from beautifulsoup4->bs4) (2.3.2.post1)\n"
     ]
    }
   ],
   "source": [
    "!pip install bs4\n",
    "from bs4 import BeautifulSoup\n",
    "import os"
   ]
  },
  {
   "cell_type": "code",
   "execution_count": 16,
   "id": "4ffc5cc1-8de9-4c69-9640-cf56677a3eff",
   "metadata": {},
   "outputs": [
    {
     "ename": "FileNotFoundError",
     "evalue": "[Errno 2] No such file or directory: 'Borehole Database'",
     "output_type": "error",
     "traceback": [
      "\u001b[0;31m---------------------------------------------------------------------------\u001b[0m",
      "\u001b[0;31mFileNotFoundError\u001b[0m                         Traceback (most recent call last)",
      "Cell \u001b[0;32mIn [16], line 1\u001b[0m\n\u001b[0;32m----> 1\u001b[0m \u001b[43mos\u001b[49m\u001b[38;5;241;43m.\u001b[39;49m\u001b[43mchdir\u001b[49m\u001b[43m(\u001b[49m\u001b[38;5;124;43m\"\u001b[39;49m\u001b[38;5;124;43mBorehole Database\u001b[39;49m\u001b[38;5;124;43m\"\u001b[39;49m\u001b[43m)\u001b[49m \u001b[38;5;66;03m# run this cell only once if run before in the current session ignore the error\u001b[39;00m\n\u001b[1;32m      2\u001b[0m \u001b[38;5;66;03m# make sure that you are in the Borehole Database directory prior to moving forward\u001b[39;00m\n",
      "\u001b[0;31mFileNotFoundError\u001b[0m: [Errno 2] No such file or directory: 'Borehole Database'"
     ]
    }
   ],
   "source": [
    "os.chdir(\"Borehole Database\") # run this cell only once if run before in the current session ignore the error\n",
    "# make sure that you are in the Borehole Database directory prior to moving forward"
   ]
  },
  {
   "cell_type": "code",
   "execution_count": 17,
   "id": "f9ef5fa2-4946-4ef2-81ce-a20f70738c24",
   "metadata": {},
   "outputs": [],
   "source": [
    "os.chdir(\"../\")"
   ]
  },
  {
   "cell_type": "code",
   "execution_count": 19,
   "id": "9ba95451-4380-4f5b-a01a-f5d7d72e8b6e",
   "metadata": {},
   "outputs": [
    {
     "data": {
      "text/plain": [
       "['GeothermalGradientRegression.ipynb',\n",
       " 'res_bct_e.xls',\n",
       " 'Figure_2.png',\n",
       " 'Borehole Database',\n",
       " 'agg_bct_e.xls',\n",
       " 'Figure_1.png',\n",
       " 'NorthAmericanBoreHolesUMICHdata_CA.csv',\n",
       " 'MtCayley.ipynb',\n",
       " 'NorthAmericanBoreholes.csv',\n",
       " 'EnergyUseBC.xlsx',\n",
       " 'NorthAmericanBoreHolesUMICHdata.csv',\n",
       " 'id_ca_e.xls',\n",
       " 'README.md',\n",
       " 'Boreholes Analysis.ipynb',\n",
       " 'cycles.json',\n",
       " '.gitignore',\n",
       " 'com_bct_e.xls',\n",
       " '.ipynb_checkpoints',\n",
       " 'parserForBHdatabase.ipynb',\n",
       " '.git',\n",
       " 'main.py',\n",
       " 'tran_bct_e.xls',\n",
       " 'NorthAmiercanBoreholesDataParser.ipynb',\n",
       " 'BoreholeNASummarized.csv']"
      ]
     },
     "execution_count": 19,
     "metadata": {},
     "output_type": "execute_result"
    }
   ],
   "source": [
    "os.listdir()"
   ]
  },
  {
   "cell_type": "code",
   "execution_count": 57,
   "id": "67692175-8507-49ab-9c7b-1446c06bd9ee",
   "metadata": {},
   "outputs": [],
   "source": [
    "def dataWebpageParser(observation):\n",
    "    \"\"\"The function will parse the webpage that contains the data of a borehole when passed on observation\"\"\"\n",
    "    \n",
    "    # parsing\n",
    "    soup = BeautifulSoup(observation) # update this line\n",
    "    ls = []\n",
    "    \n",
    "    for tag in soup.find_all(\"p\"):\n",
    "        ls.append(tag.contents)\n",
    "    \n",
    "    ########### General data\n",
    "    # yr\n",
    "    yrData = ls[0][0].replace(\" \",\"\")\n",
    "    colonLocationInyrData = yrData.find(\":\")\n",
    "    yr = float(yrData[colonLocationInyrData+1:]) \n",
    "\n",
    "    # steady state\n",
    "    steadyStateData = ls[0][2].replace(\"    \",\"\")\n",
    "    colonLocationInSteadyState = steadyStateData.find(\":\")\n",
    "    steadyState = float(steadyStateData[colonLocationInSteadyState+1:-1])\n",
    "\n",
    "    # mean conductivity\n",
    "    conductivityData = ls[0][8].replace(\"    \",\"\")\n",
    "    colonInConductivityData = conductivityData.find(\":\")\n",
    "    conductivity = float(conductivityData[colonInConductivityData+1:-1])\n",
    "\n",
    "    # mean thermal gradient\n",
    "    thermalGradientData = ls[0][12].replace(\"    \",\"\")\n",
    "    colonInThermalGradientData = thermalGradientData.find(\":\")\n",
    "    thermalGradient = float(thermalGradientData[colonInThermalGradientData+1:-1])\n",
    "    thermalGradient\n",
    "\n",
    "\n",
    "    # Depth Below Surface (m)        and          Temperature (°C)\n",
    "    # the even numbers (0, 2, 4, ...) are the Depth Below Surface\n",
    "    # the odd numbers (1, 3, 5, ...) are Temperature\n",
    "\n",
    "    depthAndTempString = ls[2][0].split()\n",
    "\n",
    "    depth = []\n",
    "    temp = []\n",
    "        \n",
    "    newObservations = []\n",
    "    while len(depthAndTempString) != 0:\n",
    "        newObservations.append({\"Borehole\": observation[\"Borehole\"],\n",
    "                                \"Depth\":float(depthAndTempString[0]),\n",
    "                                \"Temperature\": float(depthAndTempString[1]),\n",
    "                                \"Longitude\": observation[\"Longitude\"], \n",
    "                                \"Latitudes\": observation[\"Latitudes\"], \n",
    "                                \"link\": observation[\"Data\"], \n",
    "                                \"Data Contact\": observation[\"Data Contact\"], \n",
    "                                \"Country\": observation[\"Country\"]})\n",
    "        \n",
    "        del depthAndTempString[0]\n",
    "        del depthAndTempString[0]\n",
    "    \n",
    "    return newObservations\n",
    "        "
   ]
  },
  {
   "cell_type": "code",
   "execution_count": 64,
   "id": "2fdca976-f557-439b-9315-b87caadf4701",
   "metadata": {},
   "outputs": [
    {
     "name": "stdout",
     "output_type": "stream",
     "text": [
      "CA-005-1.html\n",
      "CA-005-1\n"
     ]
    },
    {
     "ename": "TypeError",
     "evalue": "string indices must be integers",
     "output_type": "error",
     "traceback": [
      "\u001b[0;31m---------------------------------------------------------------------------\u001b[0m",
      "\u001b[0;31mTypeError\u001b[0m                                 Traceback (most recent call last)",
      "Cell \u001b[0;32mIn [64], line 13\u001b[0m\n\u001b[1;32m     10\u001b[0m \u001b[38;5;28;01mwith\u001b[39;00m \u001b[38;5;28mopen\u001b[39m(\u001b[38;5;124m'\u001b[39m\u001b[38;5;124mBorehole DataBase/\u001b[39m\u001b[38;5;124m'\u001b[39m\u001b[38;5;241m+\u001b[39m page) \u001b[38;5;28;01mas\u001b[39;00m f:\n\u001b[1;32m     11\u001b[0m     content \u001b[38;5;241m=\u001b[39m f\u001b[38;5;241m.\u001b[39mread()\n\u001b[0;32m---> 13\u001b[0m     data \u001b[38;5;241m=\u001b[39m \u001b[43mdataWebpageParser\u001b[49m\u001b[43m(\u001b[49m\u001b[43mcontent\u001b[49m\u001b[43m)\u001b[49m\n\u001b[1;32m     14\u001b[0m     allData\u001b[38;5;241m.\u001b[39mappend(data)\n\u001b[1;32m     15\u001b[0m     f\u001b[38;5;241m.\u001b[39mclose()\n",
      "Cell \u001b[0;32mIn [57], line 45\u001b[0m, in \u001b[0;36mdataWebpageParser\u001b[0;34m(observation)\u001b[0m\n\u001b[1;32m     43\u001b[0m newObservations \u001b[38;5;241m=\u001b[39m []\n\u001b[1;32m     44\u001b[0m \u001b[38;5;28;01mwhile\u001b[39;00m \u001b[38;5;28mlen\u001b[39m(depthAndTempString) \u001b[38;5;241m!=\u001b[39m \u001b[38;5;241m0\u001b[39m:\n\u001b[0;32m---> 45\u001b[0m     newObservations\u001b[38;5;241m.\u001b[39mappend({\u001b[38;5;124m\"\u001b[39m\u001b[38;5;124mBorehole\u001b[39m\u001b[38;5;124m\"\u001b[39m: \u001b[43mobservation\u001b[49m\u001b[43m[\u001b[49m\u001b[38;5;124;43m\"\u001b[39;49m\u001b[38;5;124;43mBorehole\u001b[39;49m\u001b[38;5;124;43m\"\u001b[39;49m\u001b[43m]\u001b[49m,\n\u001b[1;32m     46\u001b[0m                             \u001b[38;5;124m\"\u001b[39m\u001b[38;5;124mDepth\u001b[39m\u001b[38;5;124m\"\u001b[39m:\u001b[38;5;28mfloat\u001b[39m(depthAndTempString[\u001b[38;5;241m0\u001b[39m]),\n\u001b[1;32m     47\u001b[0m                             \u001b[38;5;124m\"\u001b[39m\u001b[38;5;124mTemperature\u001b[39m\u001b[38;5;124m\"\u001b[39m: \u001b[38;5;28mfloat\u001b[39m(depthAndTempString[\u001b[38;5;241m1\u001b[39m]),\n\u001b[1;32m     48\u001b[0m                             \u001b[38;5;124m\"\u001b[39m\u001b[38;5;124mLongitude\u001b[39m\u001b[38;5;124m\"\u001b[39m: observation[\u001b[38;5;124m\"\u001b[39m\u001b[38;5;124mLongitude\u001b[39m\u001b[38;5;124m\"\u001b[39m], \n\u001b[1;32m     49\u001b[0m                             \u001b[38;5;124m\"\u001b[39m\u001b[38;5;124mLatitudes\u001b[39m\u001b[38;5;124m\"\u001b[39m: observation[\u001b[38;5;124m\"\u001b[39m\u001b[38;5;124mLatitudes\u001b[39m\u001b[38;5;124m\"\u001b[39m], \n\u001b[1;32m     50\u001b[0m                             \u001b[38;5;124m\"\u001b[39m\u001b[38;5;124mlink\u001b[39m\u001b[38;5;124m\"\u001b[39m: observation[\u001b[38;5;124m\"\u001b[39m\u001b[38;5;124mData\u001b[39m\u001b[38;5;124m\"\u001b[39m], \n\u001b[1;32m     51\u001b[0m                             \u001b[38;5;124m\"\u001b[39m\u001b[38;5;124mData Contact\u001b[39m\u001b[38;5;124m\"\u001b[39m: observation[\u001b[38;5;124m\"\u001b[39m\u001b[38;5;124mData Contact\u001b[39m\u001b[38;5;124m\"\u001b[39m], \n\u001b[1;32m     52\u001b[0m                             \u001b[38;5;124m\"\u001b[39m\u001b[38;5;124mCountry\u001b[39m\u001b[38;5;124m\"\u001b[39m: observation[\u001b[38;5;124m\"\u001b[39m\u001b[38;5;124mCountry\u001b[39m\u001b[38;5;124m\"\u001b[39m]})\n\u001b[1;32m     54\u001b[0m     \u001b[38;5;28;01mdel\u001b[39;00m depthAndTempString[\u001b[38;5;241m0\u001b[39m]\n\u001b[1;32m     55\u001b[0m     \u001b[38;5;28;01mdel\u001b[39;00m depthAndTempString[\u001b[38;5;241m0\u001b[39m]\n",
      "\u001b[0;31mTypeError\u001b[0m: string indices must be integers"
     ]
    }
   ],
   "source": [
    "# for dataPage in os.listdir():\n",
    "#     print(dataPage)\n",
    "dataPages = os.listdir(\"Borehole Database\")\n",
    "    \n",
    "allData = [] # list contain a list of dictionaries that will be writen to csv \n",
    "for page in dataPages:\n",
    "    print(page)\n",
    "    i = page.find(\".\")\n",
    "    print(page[:i])\n",
    "    with open('Borehole DataBase/'+ page) as f:\n",
    "        content = f.read()\n",
    "        \n",
    "        data = dataWebpageParser(content)\n",
    "        allData.append(data)\n",
    "        f.close()\n",
    "        \n",
    "        \n",
    "        \n",
    "        \n",
    "        "
   ]
  },
  {
   "cell_type": "code",
   "execution_count": 62,
   "id": "1ba6ebec-cdef-4d86-b6cc-e3f4bbb62b68",
   "metadata": {},
   "outputs": [],
   "source": [
    "with open('Borehole DataBase/CA-005-0.html') as f: # CA-005-1.html\n",
    "        content = f.read()\n",
    "        \n",
    "        \n",
    "        \n",
    "        soup = BeautifulSoup(content)\n",
    "        ls = []\n",
    "        for tag in soup.find_all(\"h2\"):\n",
    "            ls.append(tag.contents)\n",
    "        \n",
    "        # dataWebpageParser(content)\n",
    "        \n",
    "        \n",
    "        # allData.append(data)\n",
    "        f.close() "
   ]
  },
  {
   "cell_type": "code",
   "execution_count": null,
   "id": "4207b9f2-c4b0-426e-857a-ba5e564013ed",
   "metadata": {},
   "outputs": [],
   "source": []
  }
 ],
 "metadata": {
  "kernelspec": {
   "display_name": "Python 3 (ipykernel)",
   "language": "python",
   "name": "python3"
  },
  "language_info": {
   "codemirror_mode": {
    "name": "ipython",
    "version": 3
   },
   "file_extension": ".py",
   "mimetype": "text/x-python",
   "name": "python",
   "nbconvert_exporter": "python",
   "pygments_lexer": "ipython3",
   "version": "3.10.1"
  }
 },
 "nbformat": 4,
 "nbformat_minor": 5
}
